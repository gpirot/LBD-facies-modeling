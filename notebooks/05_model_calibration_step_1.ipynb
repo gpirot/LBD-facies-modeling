{
 "cells": [
  {
   "cell_type": "markdown",
   "id": "3029fda7",
   "metadata": {},
   "source": [
    "## Import necessary modules\n",
    "Dependencies:\n",
    " - numpy\n",
    " - pandas\n",
    " - matplotlib"
   ]
  },
  {
   "cell_type": "code",
   "execution_count": 1,
   "id": "72cbc6b3",
   "metadata": {},
   "outputs": [],
   "source": [
    "import numpy as np\n",
    "import pandas as pd\n",
    "import pickle\n",
    "import sys\n",
    "sys.path.append(\"../src/\")\n",
    "from lbd_functions import plot_elevation,plot3sections,printtimelogwithstarline,printtimelog\n",
    "from lbd_functions import gen_concatenated_lenses_params,gen_facies_youth_mx,get_facies_prop\n",
    "from lbd_functions import Lense, get_model_dh_litho_thickness, get_model_litho_thickness\n",
    "from utils import check_plot_2_sections, get_ecdf, interp_ecdf_normalize_x, get_ecdf_area_difference\n",
    "from scipy.interpolate import RegularGridInterpolator\n",
    "\n",
    "from bayes_opt import BayesianOptimization\n",
    "from bayes_opt import UtilityFunction\n",
    "from bayes_opt.logger import JSONLogger\n",
    "from bayes_opt.event import Events\n",
    "from bayes_opt.util import load_logs\n",
    "\n",
    "import matplotlib.pyplot as plt\n",
    "\n",
    "top_basement_fn = '../data/interfaces-sediment-basement/bot_base.npy'\n",
    "top_weathered_basement_fn = '../data/interfaces-sediment-basement/bot_delt.npy'\n",
    "top_deltaic_sediments_fn = '../data/interfaces-sediment-basement/top_delt.npy'\n",
    "\n",
    "bh_summary_fn = '../data/boreholes-processed/LBW_extended_STRATA_LOG_summary.csv'\n",
    "ref_err_fn = '../data/boreholes-processed/LBW_extended_error-tolerance.pickle'\n",
    "\n",
    "bo_output_json_fn = \"../data/models-age-facies/bo-logs-step-1.json\"\n",
    "\n",
    "n_iter=3000 # 5000 # 100\n",
    "plot=True\n",
    "Verb=True"
   ]
  },
  {
   "cell_type": "code",
   "execution_count": 2,
   "id": "e60fb402",
   "metadata": {},
   "outputs": [],
   "source": [
    "# DEFINE RANGE FOR PARAMETERS TO EXPLORE\n",
    "intensity_sand = 8.0/100\n",
    "truncation_sand = 22.5/100\n",
    "length_sand = 4500\n",
    "thickness_sand = 4.5\n",
    "\n",
    "intensity_clay = 7.0/100\n",
    "truncation_clay = 27.5/100\n",
    "length_clay = 5000\n",
    "thickness_clay = 3\n",
    "\n",
    "# Bounded region of parameter space\n",
    "pbounds = {'intensity_sand': (0.01, 0.30), 'truncation_sand': (0.1,0.3),\n",
    "           'length_sand': (2000,9000), 'thickness_sand': (2.5,7.5),\n",
    "           'intensity_clay': (0.01, 0.30), 'truncation_clay': (0.1,0.3),\n",
    "           'length_clay': (3000,10000), 'thickness_clay': (1.5,5.5)\n",
    "          }"
   ]
  },
  {
   "cell_type": "code",
   "execution_count": 3,
   "id": "5bd9c3ab",
   "metadata": {},
   "outputs": [
    {
     "name": "stdout",
     "output_type": "stream",
     "text": [
      "**********************************************************************\n",
      "08-Jan-2025 (22:00:16) - DEFINE PARAMETERS\n",
      "**********************************************************************\n",
      "08-Jan-2025 (22:00:16) - model boundaries\n"
     ]
    }
   ],
   "source": [
    "# DEFINE FIXED PARAMETERS\n",
    "intensity_tol = 5.0/100\n",
    "truncation_tol = 7.5/100\n",
    "length_tol = 50/100\n",
    "thickness_tol = 40/100\n",
    "truncationdist = 'uniform'\n",
    "lengthdist = 'uniform'\n",
    "thicknessdist = 'uniform'\n",
    "anisotropy = 4\n",
    "anisotropy_tol = 2\n",
    "anisotropydist = 'uniform'\n",
    "dipdir = 90*np.pi/180 # in radians\n",
    "dipdir_tol = 10*np.pi/180 # in radians\n",
    "dipdirdist = 'normal'\n",
    "dip = 0\n",
    "dip_tol = 0\n",
    "dipdist = 'normal'\n",
    "facies_sand = 2\n",
    "facies_clay = 3\n",
    "\n",
    "printtimelogwithstarline('DEFINE PARAMETERS')\n",
    "lbdseed = 12345\n",
    "\n",
    "printtimelog('model boundaries')\n",
    "xmin=5.30E5\n",
    "xmax=5.45E5\n",
    "ymin=7.830E6\n",
    "ymax=7.842E6\n",
    "zmin=-80\n",
    "zmax=20\n",
    "dx=dy=250\n",
    "dz=1\n",
    "\n",
    "lithocodes = [-1,0,1,2,3]\n",
    "labels = [\"basement\",\"weathered-basement\",\"intermediate\",\"sand\",\"clay\"]\n",
    "lithocolors = [\"pink\",\"lavenderblush\", \"sienna\", \"gold\", \"grey\"]\n",
    "ndhsamples = 500 # to estimate thicknesses from generated models\n",
    "rng = np.random.default_rng(lbdseed)"
   ]
  },
  {
   "cell_type": "code",
   "execution_count": 4,
   "id": "c0f54ed2",
   "metadata": {},
   "outputs": [
    {
     "name": "stdout",
     "output_type": "stream",
     "text": [
      "08-Jan-2025 (22:00:16) - load LBD 1-point statistics\n"
     ]
    }
   ],
   "source": [
    "\n",
    "# PROCESSING INPUT DATA\n",
    "# AREA OF INTEREST GRID\n",
    "aoi_nx = int((xmax-xmin)/dx)\n",
    "aoi_ny = int((ymax-ymin)/dy)\n",
    "aoi_nz = int((zmax-zmin)/dz)\n",
    "aoi_vx = np.linspace(xmin+dx/2,xmax-dx/2,aoi_nx,endpoint=True)\n",
    "aoi_vy = np.linspace(ymin+dy/2,ymax-dy/2,aoi_ny,endpoint=True)\n",
    "aoi_vz = np.linspace(zmin+dz/2,zmax-dz/2,aoi_nz,endpoint=True)\n",
    "aoi_xx,aoi_yy = np.meshgrid(aoi_vx,aoi_vy,indexing='xy')\n",
    "aoi_pts = np.array([aoi_xx.flatten(),aoi_yy.flatten()]).T\n",
    "# LOAD INTERFACES\n",
    "top_basement =  np.load(top_basement_fn)\n",
    "top_weathered_basement =  np.load(top_weathered_basement_fn)\n",
    "top_deltaic_sediments =  np.load(top_deltaic_sediments_fn)\n",
    "# GET INTERFACES DIMENSIONS\n",
    "top_nx = len(np.unique(top_basement[:,0]))\n",
    "top_ny = len(np.unique(top_basement[:,1]))\n",
    "# GET INTERFACES X & Y COORDINATES\n",
    "top_xx = np.flipud(np.reshape(top_basement[:,0],(top_ny,top_nx)))\n",
    "top_yy = np.flipud(np.reshape(top_basement[:,1],(top_ny,top_nx)))\n",
    "# RESHAPE INTERFACES AS 2D ARRAYS\n",
    "zz_top_basement = np.flipud(np.reshape(top_basement[:,-1],(top_ny,top_nx)))\n",
    "zz_top_weathered_basement = np.flipud(np.reshape(top_weathered_basement[:,-1],(top_ny,top_nx)))\n",
    "zz_top_deltaic_sediments = np.flipud(np.reshape(top_deltaic_sediments[:,-1],(top_ny,top_nx)))\n",
    "# ESTIMATE INTERFACES MASK\n",
    "mask = zz_top_basement< zz_top_basement.max()\n",
    "# APPLY MASK TO REMOVE MAX PLATEAU VALUES\n",
    "zz_top_basement[mask==False]=np.nan\n",
    "zz_top_weathered_basement[mask==False]=np.nan\n",
    "zz_top_deltaic_sediments[mask==False]=np.nan\n",
    "# ESTIMATE RESOLUTION\n",
    "xc_min = top_basement[:,0].min()\n",
    "xc_max = top_basement[:,0].max()\n",
    "top_dx = (xc_max-xc_min)/(top_nx-1)\n",
    "yc_min = top_basement[:,1].min()\n",
    "yc_max = top_basement[:,1].max()\n",
    "top_dy = (yc_max-yc_min)/(top_ny-1)\n",
    "# INDEX OF INTERFACES IMAGES TO SELECT TO BUILD INTERPOLATOR\n",
    "ix_select = (np.where(\n",
    "    (top_xx >= xmin-top_dx) & (top_xx <= xmax+top_dx) &\n",
    "    (top_yy >= ymin-top_dy) & (top_yy <= ymax+top_dy)\n",
    "))\n",
    "top_vx = np.sort(np.unique(top_xx[ix_select]))\n",
    "top_vy = np.sort(np.unique(top_yy[ix_select]))\n",
    "    \n",
    "ori_top_basement = np.reshape(zz_top_basement[ix_select],(len(top_vy),len(top_vx)))\n",
    "ori_top_weathered_basement = np.reshape(zz_top_weathered_basement[ix_select],(len(top_vy),len(top_vx)))\n",
    "ori_top_deltaic_sediments = np.reshape(zz_top_deltaic_sediments[ix_select],(len(top_vy),len(top_vx)))\n",
    "\n",
    "# DEFINE INTERPOLATORS\n",
    "# # flip on y axis because of increasing vy\n",
    "# data_tbt = np.flipud(ori_top_basement)\n",
    "# data_twb = np.flipud(ori_top_weathered_basement)\n",
    "# data_tds = np.flipud(ori_top_deltaic_sediments)\n",
    "\n",
    "interp_top_basement = RegularGridInterpolator((top_vy, top_vx),ori_top_basement)\n",
    "interp_top_weathered_basement = RegularGridInterpolator((top_vy, top_vx), ori_top_weathered_basement)\n",
    "interp_top_deltaic_sediments = RegularGridInterpolator((top_vy, top_vx), ori_top_deltaic_sediments)\n",
    "\n",
    "# INTERPOLATE INTERFACES\n",
    "aoi_pts = np.array([aoi_yy.flatten(),aoi_xx.flatten()]).T    \n",
    "aoi_top_basement = np.reshape(interp_top_basement(aoi_pts),(aoi_ny,aoi_nx))\n",
    "aoi_top_weathered_basement = np.reshape(interp_top_weathered_basement(aoi_pts),(aoi_ny,aoi_nx))\n",
    "aoi_top_deltaic_sediments = np.reshape(interp_top_deltaic_sediments(aoi_pts),(aoi_ny,aoi_nx))\n",
    "\n",
    "# CREATE GRID\n",
    "zzz,yyy,xxx = np.meshgrid(aoi_vz,aoi_vy,aoi_vx,indexing='ij')\n",
    "\n",
    "# CREATE AQUIFER MASK\n",
    "# 0 basement\n",
    "# 1 aquifer domain\n",
    "# np.nan above topography\n",
    "tmp_twb = np.tile(np.reshape(aoi_top_weathered_basement,(1,aoi_ny,aoi_nx)),(aoi_nz,1,1))\n",
    "tmp_tds = np.tile(np.reshape(aoi_top_deltaic_sediments,(1,aoi_ny,aoi_nx)),(aoi_nz,1,1))\n",
    "mask_aquifer = np.zeros((aoi_nz,aoi_ny,aoi_nx))\n",
    "ix_aq = np.where((zzz>=tmp_twb)&(zzz<=tmp_tds))\n",
    "mask_aquifer[ix_aq] = 1\n",
    "ix_air = np.where(zzz>tmp_tds)\n",
    "mask_aquifer[ix_air] = np.nan\n",
    "\n",
    "printtimelog('load LBD 1-point statistics')\n",
    "f = open(ref_err_fn, 'rb')\n",
    "[prop_clay_mean_p5_p95, prop_sand_mean_p5_p95, prop_inte_mean_p5_p95,\n",
    " prop_clay_err_mean_p5_p95, prop_sand_err_mean_p5_p95, prop_inte_err_mean_p5_p95,\n",
    " ecdf_clay_mean_p5_p95, ecdf_sand_mean_p5_p95, ecdf_inte_mean_p5_p95, x01_vec, thickness_lim,\n",
    " ecdf_clay_area_err_mean_p5_p95, ecdf_sand_area_err_mean_p5_p95, ecdf_inte_area_err_mean_p5_p95] = pickle.load(f)\n",
    "f.close()\n",
    "nbins = len(x01_vec)-1\n",
    "xlim = thickness_lim[1]\n"
   ]
  },
  {
   "cell_type": "code",
   "execution_count": 5,
   "id": "b6960a17",
   "metadata": {},
   "outputs": [],
   "source": [
    "# DEFINE BLACKBOX FUNCTION\n",
    "# INPUT PARAMETERS\n",
    "intensity_sand = 8.0/100\n",
    "truncation_sand = 22.5/100\n",
    "length_sand = 4500\n",
    "thickness_sand = 4.5\n",
    "\n",
    "intensity_clay = 7.0/100\n",
    "truncation_clay = 27.5/100\n",
    "length_clay = 5000\n",
    "thickness_clay = 3\n",
    "\n",
    "# OUTPUT: prox2lbd (1-dist2lbd)\n",
    "\n",
    "def black_box_function(intensity_sand, truncation_sand, length_sand, thickness_sand, \n",
    "             intensity_clay, truncation_clay, length_clay, thickness_clay):\n",
    "    intensity_sand_tol = intensity_tol * intensity_sand\n",
    "    intensity_clay_tol = intensity_tol * intensity_clay\n",
    "    length_sand_tol = length_tol * length_sand\n",
    "    length_clay_tol = length_tol * length_clay\n",
    "    thickness_sand_tol = thickness_tol *thickness_sand \n",
    "    thickness_clay_tol = thickness_tol *thickness_clay \n",
    "    # DEFINE LENSES CLASSES\n",
    "    sandLenses = Lense(intensity_sand,intensity_sand_tol,\n",
    "                     truncation_sand,truncation_tol,truncationdist,\n",
    "                     length_sand,length_sand_tol,lengthdist,\n",
    "                     thickness_sand,thickness_sand_tol,thicknessdist,\n",
    "                     anisotropy,anisotropy_tol,anisotropydist,\n",
    "                     dipdir,dipdir_tol,dipdirdist,\n",
    "                     dip,dip_tol,dipdist,facies_sand)\n",
    "    clayLenses = Lense(intensity_clay,intensity_clay_tol,\n",
    "                     truncation_clay,truncation_tol,truncationdist,\n",
    "                     length_clay,length_clay_tol,lengthdist,\n",
    "                     thickness_clay,thickness_clay_tol,thicknessdist,\n",
    "                     anisotropy,anisotropy_tol,anisotropydist,\n",
    "                     dipdir,dipdir_tol,dipdirdist,\n",
    "                     dip,dip_tol,dipdist,facies_clay)\n",
    "\n",
    "    # GENERATE TRUNCATED ELLIPSOID PARAMS FOR SAND LENSES AND CLAY LENSES\n",
    "    #printtimelog('generate lense params')\n",
    "    lenseClassesList = [sandLenses,clayLenses]\n",
    "    Lix,Liy,Liz,Ldipdir,Ldip,La,Lb,Lc,Ltruncr,Lfacies = gen_concatenated_lenses_params(lenseClassesList,mask_aquifer,dx,dz,lbdseed+3)\n",
    "\n",
    "    # GENERATE OBJECT BASED MODELS\n",
    "    #printtimelog('generate object based model')\n",
    "    facies_mx,relative_youth_mx = gen_facies_youth_mx(aoi_vx,aoi_vy,aoi_vz,Lix,Liy,Liz,Ldipdir,Ldip,La,Lb,Lc,Ltruncr,Lfacies,mask_aquifer)\n",
    "\n",
    "    # ADD DISTINCTION BETWEEN BASEMENT AND WEATHERED BASEMENT\n",
    "    #printtimelog('differentiate basement from weathered basement')\n",
    "    tmp_twt = np.tile(np.reshape(aoi_top_basement,(1,aoi_ny,aoi_nx)),(aoi_nz,1,1))\n",
    "    ix_bst = np.where(zzz<tmp_twt)\n",
    "    facies_mx[ix_bst]=-1\n",
    "    \n",
    "    # COMPUTE COUNT AND PROPORTIONS PER LITHOCODE\n",
    "    #printtimelog('compute proportions')\n",
    "    prop = get_facies_prop(facies_mx,mask_aquifer,lithocodes[2:],labels[2:])\n",
    "    #print(prop)\n",
    "\n",
    "    # GET THICKNESSES\n",
    "    #printtimelog('extract thicknesses')\n",
    "    df_model_thickness = get_model_litho_thickness(facies_mx,ndhsamples,aoi_nx,aoi_ny,lithocodes,zmin,dz,rng)\n",
    "\n",
    "    # COMPUTE EMPIRICAL CUMULATIVE DISTRIBUTION FUNCTIONS OF THICKNESS PER LITHOCODE\n",
    "    #printtimelogwithstarline('COMPUTE ECDFs')\n",
    "    x_clay, ecdf_clay = get_ecdf(df_model_thickness,3)\n",
    "    x_sand, ecdf_sand = get_ecdf(df_model_thickness,2)\n",
    "    x_inte, ecdf_inte = get_ecdf(df_model_thickness,1)\n",
    "\n",
    "    #printtimelog('normalize ecdfs')\n",
    "\n",
    "    ecdf01_clay = interp_ecdf_normalize_x(x_clay,ecdf_clay,xlim,x01_vec)\n",
    "    ecdf01_sand = interp_ecdf_normalize_x(x_sand,ecdf_sand,xlim,x01_vec)\n",
    "    ecdf01_inte = interp_ecdf_normalize_x(x_inte,ecdf_inte,xlim,x01_vec)\n",
    "    \n",
    "    #printtimelogwithstarline('COMPUTE DISTANCE TO LBD DATASET')\n",
    "    #printtimelog('compute errors')\n",
    "    err_prop_clay = (float(prop.loc[3,'proportion'])/100-prop_clay_mean_p5_p95[0]) # / prop_clay_err_mean_p5_p95[0]\n",
    "    err_prop_sand = (float(prop.loc[2,'proportion'])/100-prop_sand_mean_p5_p95[0]) #/ prop_sand_err_mean_p5_p95[0]\n",
    "    \n",
    "    err_ecfd_clay,_,_,_,_,_,_ = get_ecdf_area_difference(x01_vec,ecdf_clay_mean_p5_p95[:,0],x01_vec,ecdf01_clay,nbins=nbins) #/ ecdf_clay_area_err_mean_p5_p95[0]\n",
    "    err_ecfd_sand,_,_,_,_,_,_ = get_ecdf_area_difference(x01_vec,ecdf_sand_mean_p5_p95[:,0],x01_vec,ecdf01_sand,nbins=nbins) #/ ecdf_sand_area_err_mean_p5_p95[0]\n",
    "    # err_ratio_ecfd_inte,_,_,_,_,_,_ = get_ecdf_area_difference(x01_vec,ecdf_inte_mean_p5_p95[:,0],x01_vec,ecdf01_inte,nbins=nbins) #/ ecdf_inte_area_err_mean_p5_p95[0]\n",
    "\n",
    "    #printtimelog('compute distance')\n",
    "    errors = np.abs(np.array([err_prop_clay,err_prop_sand,err_ecfd_clay,err_ecfd_sand]))\n",
    "    #print('errors: '+str(errors))\n",
    "\n",
    "    dist2lbd = 1 - np.prod(1-errors)**(1/len(errors))\n",
    "    #print('dist2lbd: '+str(dist2lbd))    \n",
    "    return 1-dist2lbd"
   ]
  },
  {
   "cell_type": "code",
   "execution_count": 6,
   "id": "e9d721f2",
   "metadata": {},
   "outputs": [
    {
     "data": {
      "text/plain": [
       "0.9534819333688713"
      ]
     },
     "execution_count": 6,
     "metadata": {},
     "output_type": "execute_result"
    }
   ],
   "source": [
    "# Test function\n",
    "black_box_function(intensity_sand, truncation_sand, length_sand, thickness_sand, \n",
    "         intensity_clay, truncation_clay, length_clay, thickness_clay)"
   ]
  },
  {
   "cell_type": "code",
   "execution_count": 7,
   "id": "1de43e1f",
   "metadata": {},
   "outputs": [],
   "source": [
    "logger = JSONLogger(path=bo_output_json_fn)\n",
    "acquisition_function = UtilityFunction(kind=\"ei\", xi=1e-5)\n",
    "\n",
    "bo = BayesianOptimization(\n",
    "    f=black_box_function,\n",
    "    pbounds=pbounds,\n",
    "    verbose=2,\n",
    "    random_state=12345,\n",
    ")\n",
    "bo.subscribe(Events.OPTIMIZATION_STEP, logger)"
   ]
  },
  {
   "cell_type": "code",
   "execution_count": 8,
   "id": "5585e72a",
   "metadata": {},
   "outputs": [],
   "source": [
    "bo.maximize(init_points=4,n_iter=n_iter, acquisition_function=acquisition_function)"
   ]
  },
  {
   "cell_type": "code",
   "execution_count": 9,
   "id": "aa333242",
   "metadata": {},
   "outputs": [],
   "source": [
    "import json\n",
    "\n",
    "nbo = BayesianOptimization(\n",
    "    f=black_box_function,\n",
    "    pbounds=pbounds,\n",
    "    verbose=2,\n",
    "    random_state=12345,\n",
    ")\n",
    "load_logs(nbo, logs=[bo_output_json_fn]);\n"
   ]
  },
  {
   "cell_type": "code",
   "execution_count": 10,
   "id": "b9c75fec",
   "metadata": {},
   "outputs": [],
   "source": [
    "tmp = nbo.res\n",
    "# tmp"
   ]
  },
  {
   "cell_type": "code",
   "execution_count": null,
   "id": "14372668",
   "metadata": {},
   "outputs": [],
   "source": []
  },
  {
   "cell_type": "code",
   "execution_count": null,
   "id": "5ce7903d",
   "metadata": {},
   "outputs": [],
   "source": []
  },
  {
   "cell_type": "code",
   "execution_count": 11,
   "id": "14c3b616",
   "metadata": {},
   "outputs": [
    {
     "data": {
      "text/html": [
       "<div>\n",
       "<style scoped>\n",
       "    .dataframe tbody tr th:only-of-type {\n",
       "        vertical-align: middle;\n",
       "    }\n",
       "\n",
       "    .dataframe tbody tr th {\n",
       "        vertical-align: top;\n",
       "    }\n",
       "\n",
       "    .dataframe thead th {\n",
       "        text-align: right;\n",
       "    }\n",
       "</style>\n",
       "<table border=\"1\" class=\"dataframe\">\n",
       "  <thead>\n",
       "    <tr style=\"text-align: right;\">\n",
       "      <th></th>\n",
       "      <th>target</th>\n",
       "      <th>params</th>\n",
       "    </tr>\n",
       "  </thead>\n",
       "  <tbody>\n",
       "    <tr>\n",
       "      <th>0</th>\n",
       "      <td>0.921364</td>\n",
       "      <td>{'intensity_clay': 0.27958866691697287, 'inten...</td>\n",
       "    </tr>\n",
       "    <tr>\n",
       "      <th>1</th>\n",
       "      <td>0.935001</td>\n",
       "      <td>{'intensity_clay': 0.22718292488483444, 'inten...</td>\n",
       "    </tr>\n",
       "    <tr>\n",
       "      <th>2</th>\n",
       "      <td>0.903993</td>\n",
       "      <td>{'intensity_clay': 0.24484564023687108, 'inten...</td>\n",
       "    </tr>\n",
       "    <tr>\n",
       "      <th>3</th>\n",
       "      <td>0.945461</td>\n",
       "      <td>{'intensity_clay': 0.13749693570659474, 'inten...</td>\n",
       "    </tr>\n",
       "    <tr>\n",
       "      <th>4</th>\n",
       "      <td>0.812217</td>\n",
       "      <td>{'intensity_clay': 0.031121016900318182, 'inte...</td>\n",
       "    </tr>\n",
       "    <tr>\n",
       "      <th>...</th>\n",
       "      <td>...</td>\n",
       "      <td>...</td>\n",
       "    </tr>\n",
       "    <tr>\n",
       "      <th>2999</th>\n",
       "      <td>0.937400</td>\n",
       "      <td>{'intensity_clay': 0.19948480487556414, 'inten...</td>\n",
       "    </tr>\n",
       "    <tr>\n",
       "      <th>3000</th>\n",
       "      <td>0.812801</td>\n",
       "      <td>{'intensity_clay': 0.01745328443306752, 'inten...</td>\n",
       "    </tr>\n",
       "    <tr>\n",
       "      <th>3001</th>\n",
       "      <td>0.948851</td>\n",
       "      <td>{'intensity_clay': 0.15506439467663335, 'inten...</td>\n",
       "    </tr>\n",
       "    <tr>\n",
       "      <th>3002</th>\n",
       "      <td>0.935795</td>\n",
       "      <td>{'intensity_clay': 0.29866849542007556, 'inten...</td>\n",
       "    </tr>\n",
       "    <tr>\n",
       "      <th>3003</th>\n",
       "      <td>0.939690</td>\n",
       "      <td>{'intensity_clay': 0.08928096341049185, 'inten...</td>\n",
       "    </tr>\n",
       "  </tbody>\n",
       "</table>\n",
       "<p>3004 rows × 2 columns</p>\n",
       "</div>"
      ],
      "text/plain": [
       "        target                                             params\n",
       "0     0.921364  {'intensity_clay': 0.27958866691697287, 'inten...\n",
       "1     0.935001  {'intensity_clay': 0.22718292488483444, 'inten...\n",
       "2     0.903993  {'intensity_clay': 0.24484564023687108, 'inten...\n",
       "3     0.945461  {'intensity_clay': 0.13749693570659474, 'inten...\n",
       "4     0.812217  {'intensity_clay': 0.031121016900318182, 'inte...\n",
       "...        ...                                                ...\n",
       "2999  0.937400  {'intensity_clay': 0.19948480487556414, 'inten...\n",
       "3000  0.812801  {'intensity_clay': 0.01745328443306752, 'inten...\n",
       "3001  0.948851  {'intensity_clay': 0.15506439467663335, 'inten...\n",
       "3002  0.935795  {'intensity_clay': 0.29866849542007556, 'inten...\n",
       "3003  0.939690  {'intensity_clay': 0.08928096341049185, 'inten...\n",
       "\n",
       "[3004 rows x 2 columns]"
      ]
     },
     "execution_count": 11,
     "metadata": {},
     "output_type": "execute_result"
    }
   ],
   "source": [
    "df = pd.DataFrame.from_dict(tmp)\n",
    "df"
   ]
  },
  {
   "cell_type": "code",
   "execution_count": 12,
   "id": "980c63b7",
   "metadata": {},
   "outputs": [
    {
     "data": {
      "text/plain": [
       "{'intensity_clay': 0.27958866691697287,\n",
       " 'intensity_sand': 0.1017489108287179,\n",
       " 'length_clay': 4287.431681739661,\n",
       " 'length_sand': 3431.9219498712782,\n",
       " 'thickness_clay': 3.7709001163267466,\n",
       " 'thickness_sand': 5.477723514896258,\n",
       " 'truncation_clay': 0.2929029039471243,\n",
       " 'truncation_sand': 0.23063541937431417}"
      ]
     },
     "execution_count": 12,
     "metadata": {},
     "output_type": "execute_result"
    }
   ],
   "source": [
    "df.iloc[0,1]"
   ]
  },
  {
   "cell_type": "code",
   "execution_count": 13,
   "id": "7db10a84",
   "metadata": {},
   "outputs": [
    {
     "data": {
      "text/plain": [
       "dict_keys(['intensity_clay', 'intensity_sand', 'length_clay', 'length_sand', 'thickness_clay', 'thickness_sand', 'truncation_clay', 'truncation_sand'])"
      ]
     },
     "execution_count": 13,
     "metadata": {},
     "output_type": "execute_result"
    }
   ],
   "source": [
    "df.iloc[0,1].keys()"
   ]
  },
  {
   "cell_type": "code",
   "execution_count": 14,
   "id": "d415f023",
   "metadata": {},
   "outputs": [
    {
     "data": {
      "text/plain": [
       "dict_values([0.27958866691697287, 0.1017489108287179, 4287.431681739661, 3431.9219498712782, 3.7709001163267466, 5.477723514896258, 0.2929029039471243, 0.23063541937431417])"
      ]
     },
     "execution_count": 14,
     "metadata": {},
     "output_type": "execute_result"
    }
   ],
   "source": [
    "df.iloc[0,1].values()"
   ]
  },
  {
   "cell_type": "code",
   "execution_count": 15,
   "id": "6d29f22b",
   "metadata": {},
   "outputs": [
    {
     "data": {
      "text/plain": [
       "0.27958866691697287"
      ]
     },
     "execution_count": 15,
     "metadata": {},
     "output_type": "execute_result"
    }
   ],
   "source": [
    "df.iloc[0,1].get('intensity_clay')"
   ]
  },
  {
   "cell_type": "code",
   "execution_count": 16,
   "id": "795f78db",
   "metadata": {},
   "outputs": [
    {
     "data": {
      "text/plain": [
       "([<matplotlib.lines.Line2D at 0x28c8086ba60>], (0.9, 1.0))"
      ]
     },
     "execution_count": 16,
     "metadata": {},
     "output_type": "execute_result"
    },
    {
     "data": {
      "image/png": "[encoded data removed]",
      "text/plain": [
       "<Figure size 640x480 with 1 Axes>"
      ]
     },
     "metadata": {},
     "output_type": "display_data"
    }
   ],
   "source": [
    "plt.plot(df['target']),plt.ylim([0.9,1])"
   ]
  },
  {
   "cell_type": "code",
   "execution_count": null,
   "id": "c509379f",
   "metadata": {},
   "outputs": [],
   "source": []
  }
 ],
 "metadata": {
  "kernelspec": {
   "display_name": "Python 3 (ipykernel)",
   "language": "python",
   "name": "python3"
  },
  "language_info": {
   "codemirror_mode": {
    "name": "ipython",
    "version": 3
   },
   "file_extension": ".py",
   "mimetype": "text/x-python",
   "name": "python",
   "nbconvert_exporter": "python",
   "pygments_lexer": "ipython3",
   "version": "3.9.20"
  }
 },
 "nbformat": 4,
 "nbformat_minor": 5
}
